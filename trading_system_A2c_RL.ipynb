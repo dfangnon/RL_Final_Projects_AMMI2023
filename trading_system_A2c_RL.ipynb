{
  "cells": [
    {
      "cell_type": "markdown",
      "metadata": {
        "id": "view-in-github",
        "colab_type": "text"
      },
      "source": [
        "<a href=\"https://colab.research.google.com/github/dfangnon/RL_Final_Projects_AMMI2023/blob/main/trading_system_A2c_RL.ipynb\" target=\"_parent\"><img src=\"https://colab.research.google.com/assets/colab-badge.svg\" alt=\"Open In Colab\"/></a>"
      ]
    },
    {
      "cell_type": "code",
      "execution_count": null,
      "metadata": {
        "id": "29HU93JwHb7_"
      },
      "outputs": [],
      "source": [
        "!pip install yfinance\n",
        "from IPython.display import clear_output\n",
        "clear_output()"
      ]
    },
    {
      "cell_type": "code",
      "execution_count": null,
      "metadata": {
        "id": "PxQSPgEaX4t0",
        "colab": {
          "base_uri": "https://localhost:8080/"
        },
        "outputId": "9d78f47d-cb50-4525-ab08-177c6b6307da"
      },
      "outputs": [
        {
          "output_type": "stream",
          "name": "stdout",
          "text": [
            "cuda\n"
          ]
        }
      ],
      "source": [
        "# let us set the device\n",
        "import torch\n",
        "DEVICE = 'cuda' if torch.cuda.is_available() else 'cpu'\n",
        "print(DEVICE)"
      ]
    },
    {
      "cell_type": "code",
      "source": [
        "#In this notebook, we are going to train a reinforcement learning system\n",
        "#!pip install yfinance\n",
        "import yfinance as yf\n",
        "from collections import namedtuple,deque\n",
        "from torch import nn\n",
        "import torch\n",
        "from torch import optim\n",
        "import numpy as np\n",
        "from sklearn.preprocessing import StandardScaler\n",
        "import random"
      ],
      "metadata": {
        "id": "SBqpSCHnGz2W"
      },
      "execution_count": null,
      "outputs": []
    },
    {
      "cell_type": "markdown",
      "metadata": {
        "id": "NZHT5ZxUJOFA"
      },
      "source": []
    },
    {
      "cell_type": "code",
      "execution_count": null,
      "metadata": {
        "id": "OSY5-mYVICwK"
      },
      "outputs": [],
      "source": [
        "#STATE_SPACE = 28\n",
        "STATE_SPACE = 34\n",
        "ACTION_SPACE = 3\n",
        "\n",
        "ACTION_LOW = -1\n",
        "ACTION_HIGH = 1\n",
        "\n",
        "GAMMA = 0.9995\n",
        "TAU = 1e-3\n",
        "EPS_START = 1.0\n",
        "EPS_END = 0.1\n",
        "EPS_DECAY = 0.9\n",
        "\n",
        "MEMORY_LEN = 10000\n",
        "MEMORY_THRESH = 500\n",
        "BATCH_SIZE = 200\n",
        "\n",
        "LR_DQN = 5e-4\n",
        "\n",
        "LEARN_AFTER = MEMORY_THRESH\n",
        "LEARN_EVERY = 3\n",
        "UPDATE_EVERY = 9\n",
        "\n",
        "COST = 3e-4\n",
        "CAPITAL = 100000\n",
        "NEG_MUL = 2"
      ]
    },
    {
      "cell_type": "markdown",
      "metadata": {
        "id": "Yc5egHpNI57s"
      },
      "source": [
        "### Now we need to generate the observation space. The following code snippet does the same. First, it downloads the required time series data for the given ticker, date and frequency from the Yahoo Finance website using yfinance python module. Later, it engineers the required features for the observation space."
      ]
    },
    {
      "cell_type": "code",
      "execution_count": null,
      "metadata": {
        "id": "twipud_bJQVf"
      },
      "outputs": [],
      "source": []
    },
    {
      "cell_type": "code",
      "execution_count": null,
      "metadata": {
        "id": "j1hFve4BIrxg"
      },
      "outputs": [],
      "source": [
        "class DataGetter:\n",
        "  \"\"\"\n",
        "  The class for getting data for assets.\n",
        "  \"\"\"\n",
        "\n",
        "  def __init__(self, asset=\"BTC-USD\", start_date=None, end_date=None, freq=\"1d\",\n",
        "               timeframes=[1,2,5, 10, 20, 40]):\n",
        "    self.asset = asset\n",
        "    self.sd = start_date\n",
        "    self.ed = end_date\n",
        "    self.freq = freq\n",
        "\n",
        "    self.timeframes = timeframes\n",
        "    self.getData()\n",
        "\n",
        "    self.scaler = StandardScaler()\n",
        "    self.scaler.fit(self.data[:, 1:])\n",
        "\n",
        "\n",
        "  def getData(self):\n",
        "\n",
        "    asset = self.asset\n",
        "    if self.sd is not None and self.ed is not None:\n",
        "      df =  yf.download([asset], start=self.sd, end=self.ed, interval=self.freq)\n",
        "      df_spy = yf.download([\"BTC-USD\"], start=self.sd, end=self.ed, interval=self.freq)\n",
        "    elif self.sd is None and self.ed is not None:\n",
        "      df =  yf.download([asset], end=self.ed, interval=self.freq)\n",
        "      df_spy = yf.download([\"BTC-USD\"], end=self.ed, interval=self.freq)\n",
        "    elif self.sd is not None and self.ed is None:\n",
        "      df =  yf.download([asset], start=self.sd, interval=self.freq)\n",
        "      df_spy = yf.download([\"BTC-USD\"], start=self.sd, interval=self.freq)\n",
        "    else:\n",
        "      df = yf.download([asset], period=\"max\", interval=self.freq)\n",
        "      df_spy = yf.download([\"BTC-USD\"], interval=self.freq)\n",
        "\n",
        "    # Reward - Not included in Observation Space.\n",
        "    #print(df_spy.head())\n",
        "    df[\"rf\"] = df[\"Adj Close\"].pct_change().shift(-1)\n",
        "\n",
        "    # Returns and Trading Volume Changes\n",
        "    for i in self.timeframes:\n",
        "      df_spy[f\"spy_ret-{i}\"] = df_spy[\"Adj Close\"].pct_change(i)\n",
        "      df_spy[f\"spy_v-{i}\"] = df_spy[\"Volume\"].pct_change(i)\n",
        "\n",
        "      df[f\"r-{i}\"] = df[\"Adj Close\"].pct_change(i)\n",
        "      df[f\"v-{i}\"] = df[\"Volume\"].pct_change(i)\n",
        "\n",
        "    # Volatility\n",
        "    for i in [5, 10, 20, 40]:\n",
        "      df[f'sig-{i}'] = np.log(1 + df[\"r-1\"]).rolling(i).std()\n",
        "\n",
        "    # Moving Average Convergence Divergence (MACD)\n",
        "    df[\"macd_lmw\"] = df[\"r-1\"].ewm(span=26, adjust=False).mean()\n",
        "    df[\"macd_smw\"] = df[\"r-1\"].ewm(span=12, adjust=False).mean()\n",
        "    df[\"macd_bl\"] = df[\"r-1\"].ewm(span=9, adjust=False).mean()\n",
        "    df[\"macd\"] = df[\"macd_smw\"] - df[\"macd_lmw\"]\n",
        "\n",
        "    # Relative Strength Indicator (RSI)\n",
        "    rsi_lb = 5\n",
        "    pos_gain = df[\"r-1\"].where(df[\"r-1\"] > 0, 0).ewm(rsi_lb).mean()\n",
        "    neg_gain = df[\"r-1\"].where(df[\"r-1\"] < 0, 0).ewm(rsi_lb).mean()\n",
        "    rs = np.abs(pos_gain/neg_gain)\n",
        "    df[\"rsi\"] = 100 * rs/(1 + rs)\n",
        "\n",
        "    # Bollinger Bands\n",
        "    bollinger_lback = 10\n",
        "    df[\"bollinger\"] = df[\"r-1\"].ewm(bollinger_lback).mean()\n",
        "    df[\"low_bollinger\"] = df[\"bollinger\"] - 2 * df[\"r-1\"].rolling(bollinger_lback).std()\n",
        "    df[\"high_bollinger\"] = df[\"bollinger\"] + 2 * df[\"r-1\"].rolling(bollinger_lback).std()\n",
        "\n",
        "    # SP500\n",
        "    #print(self.timeframes)\n",
        "    #df = df.merge(df_spy[[f\"spy_ret-{i}\" for i in self.timeframes] + [f\"spy_sig-{i}\" for i in [5, 10, 20, 40]]],\n",
        "    df = df.merge(df_spy[[f\"spy_ret-{i}\" for i in self.timeframes]],\n",
        "                  how=\"left\", right_index=True, left_index=True)\n",
        "\n",
        "    # Filtering\n",
        "    for c in df.columns:\n",
        "      df[c].interpolate('linear', limit_direction='both', inplace=True)\n",
        "    df.replace([np.inf, -np.inf], np.nan, inplace=True)\n",
        "    df.dropna(inplace=True)\n",
        "\n",
        "    self.frame = df\n",
        "    self.data = np.array(df.iloc[:, 6:])\n",
        "    return\n",
        "\n",
        "\n",
        "  def scaleData(self):\n",
        "    self.scaled_data = self.scaler.fit_transform(self.data[:, 1:])\n",
        "    return\n",
        "\n",
        "\n",
        "  def __len__(self):\n",
        "    return len(self.data)\n",
        "\n",
        "\n",
        "  def __getitem__(self, idx, col_idx=None):\n",
        "    if col_idx is None:\n",
        "      return self.data[idx]\n",
        "    elif col_idx < len(list(self.data.columns)):\n",
        "      return self.data[idx][col_idx]\n",
        "    else:\n",
        "      raise IndexError\n"
      ]
    },
    {
      "cell_type": "markdown",
      "metadata": {
        "id": "O-TPHvuZJTTF"
      },
      "source": [
        "### The following snippet is the custom trading environment implementation for trading a single asset. It takes as input the DataGetter class for an asset. While there are a lot of functions in the environment class, the two main functions are step() and reset()."
      ]
    },
    {
      "cell_type": "code",
      "execution_count": null,
      "metadata": {
        "id": "s21YZ_QUJc-p"
      },
      "outputs": [],
      "source": [
        "class SingleAssetTradingEnvironment:\n",
        "  \"\"\"\n",
        "  Trading Environment for trading a single asset.\n",
        "  The Agent interacts with the environment class through the step() function.\n",
        "  Action Space: {-1: Sell, 0: Do Nothing, 1: Buy}\n",
        "  \"\"\"\n",
        "\n",
        "  def __init__(self, asset_data,\n",
        "               initial_money=CAPITAL, trans_cost=COST, store_flag=1, asset_ph=0,\n",
        "               capital_frac=0.2, running_thresh=0.1, cap_thresh=0.3):\n",
        "\n",
        "    self.past_holding = asset_ph\n",
        "    self.capital_frac = capital_frac # Fraction of capital to invest each time.\n",
        "    self.cap_thresh = cap_thresh\n",
        "    self.running_thresh = running_thresh\n",
        "    self.trans_cost = trans_cost\n",
        "\n",
        "    self.asset_data = asset_data\n",
        "    self.terminal_idx = len(self.asset_data) - 1\n",
        "    self.scaler = self.asset_data.scaler\n",
        "\n",
        "    self.initial_cap = initial_money\n",
        "\n",
        "    self.capital = self.initial_cap\n",
        "    self.running_capital = self.capital\n",
        "    self.asset_inv = self.past_holding\n",
        "\n",
        "    self.pointer = 0\n",
        "    self.next_return, self.current_state = 0, None\n",
        "    self.prev_act = 0\n",
        "    self.current_act = 0\n",
        "    self.current_reward = 0\n",
        "    self.current_price = self.asset_data.frame.iloc[self.pointer, :]['Adj Close']\n",
        "    self.done = False\n",
        "\n",
        "    self.store_flag = store_flag\n",
        "    if self.store_flag == 1:\n",
        "      self.store = {\"action_store\": [],\n",
        "                    \"reward_store\": [],\n",
        "                    \"running_capital\": [],\n",
        "                    \"port_ret\": []}\n",
        "\n",
        "\n",
        "  def reset(self):\n",
        "    self.capital = self.initial_cap\n",
        "    self.running_capital = self.capital\n",
        "    self.asset_inv = self.past_holding\n",
        "\n",
        "    self.pointer = 0\n",
        "    self.next_return, self.current_state = self.get_state(self.pointer)\n",
        "    self.prev_act = 0\n",
        "    self.current_act = 0\n",
        "    self.current_reward = 0\n",
        "    self.current_price = self.asset_data.frame.iloc[self.pointer, :]['Adj Close']\n",
        "    self.done = False\n",
        "\n",
        "    if self.store_flag == 1:\n",
        "      self.store = {\"action_store\": [],\n",
        "                    \"reward_store\": [],\n",
        "                    \"running_capital\": [],\n",
        "                    \"port_ret\": []}\n",
        "\n",
        "    return self.current_state\n",
        "\n",
        "\n",
        "  def step(self, action):\n",
        "    self.current_act = action\n",
        "    self.current_price = self.asset_data.frame.iloc[self.pointer, :]['Adj Close']\n",
        "    self.current_reward = self.calculate_reward()\n",
        "    self.prev_act = self.current_act\n",
        "    self.pointer += 1\n",
        "    self.next_return, self.current_state = self.get_state(self.pointer)\n",
        "    self.done = self.check_terminal()\n",
        "\n",
        "    if self.done:\n",
        "      reward_offset = 0\n",
        "      ret = (self.store['running_capital'][-1]/self.store['running_capital'][-0]) - 1\n",
        "      if self.pointer < self.terminal_idx:\n",
        "        reward_offset += -1 * max(0.5, 1 - self.pointer/self.terminal_idx)\n",
        "      if self.store_flag:\n",
        "        reward_offset += 10 * ret\n",
        "      self.current_reward += reward_offset\n",
        "\n",
        "    if self.store_flag:\n",
        "      self.store[\"action_store\"].append(self.current_act)\n",
        "      self.store[\"reward_store\"].append(self.current_reward)\n",
        "      self.store[\"running_capital\"].append(self.capital)\n",
        "      info = self.store\n",
        "    else:\n",
        "      info = None\n",
        "\n",
        "    return self.current_state, self.current_reward, self.done, info\n",
        "\n",
        "\n",
        "  def calculate_reward(self):\n",
        "    investment = self.running_capital * self.capital_frac\n",
        "    reward_offset = 0\n",
        "\n",
        "    # Buy Action\n",
        "    if self.current_act == 1:\n",
        "      if self.running_capital > self.initial_cap * self.running_thresh:\n",
        "        self.running_capital -= investment\n",
        "        asset_units = investment/self.current_price\n",
        "        self.asset_inv += asset_units\n",
        "        self.current_price *= (1 - self.trans_cost)\n",
        "\n",
        "    # Sell Action\n",
        "    elif self.current_act == -1:\n",
        "      if self.asset_inv > 0:\n",
        "        self.running_capital += self.asset_inv * self.current_price * (1 - self.trans_cost)\n",
        "        self.asset_inv = 0\n",
        "\n",
        "    # Do Nothing\n",
        "    elif self.current_act == 0:\n",
        "      if self.prev_act == 0:\n",
        "        reward_offset += -0.1\n",
        "      pass\n",
        "\n",
        "    # Reward to give\n",
        "    prev_cap = self.capital\n",
        "    self.capital = self.running_capital + (self.asset_inv) * self.current_price\n",
        "    reward = 100*(self.next_return) * self.current_act - np.abs(self.current_act - self.prev_act) * self.trans_cost\n",
        "    if self.store_flag==1:\n",
        "      self.store['port_ret'].append((self.capital - prev_cap)/prev_cap)\n",
        "\n",
        "    if reward < 0:\n",
        "      reward *= NEG_MUL  # To make the Agent more risk averse towards negative returns.\n",
        "    reward += reward_offset\n",
        "\n",
        "    return reward\n",
        "\n",
        "\n",
        "  def check_terminal(self):\n",
        "    if self.pointer == self.terminal_idx:\n",
        "      return True\n",
        "    elif self.capital <= self.initial_cap * self.cap_thresh:\n",
        "      return True\n",
        "    else:\n",
        "      return False\n",
        "\n",
        "\n",
        "  def get_state(self, idx):\n",
        "    state = self.asset_data[idx][1:]\n",
        "    state = self.scaler.transform(state.reshape(1, -1))\n",
        "\n",
        "    state = np.concatenate([state, [[self.capital/self.initial_cap,\n",
        "                                     self.running_capital/self.capital,\n",
        "                                     self.asset_inv * self.current_price/self.initial_cap,\n",
        "                                     self.prev_act]]], axis=-1)\n",
        "\n",
        "    next_ret = self.asset_data[idx][0]\n",
        "    return next_ret, state"
      ]
    },
    {
      "cell_type": "markdown",
      "source": [
        "## Replay Memory"
      ],
      "metadata": {
        "id": "Sz5WfRz5luaB"
      }
    },
    {
      "cell_type": "code",
      "execution_count": null,
      "metadata": {
        "id": "I_9gAlagK-P5"
      },
      "outputs": [],
      "source": [
        "Transition = namedtuple(\"Transition\", [\"States\", \"Actions\", \"Rewards\", \"NextStates\", \"Dones\"])\n",
        "\n",
        "\n",
        "class ReplayMemory:\n",
        "  \"\"\"\n",
        "  Implementation of Agent memory\n",
        "  \"\"\"\n",
        "  def __init__(self, capacity=MEMORY_LEN):\n",
        "    self.memory = deque(maxlen=capacity)\n",
        "\n",
        "  def store(self, t):\n",
        "    self.memory.append(t)\n",
        "\n",
        "  def sample(self, n):\n",
        "    a = random.sample(self.memory, n)\n",
        "    return a\n",
        "\n",
        "  def __len__(self):\n",
        "    return len(self.memory)"
      ]
    },
    {
      "cell_type": "code",
      "source": [],
      "metadata": {
        "id": "f6kxHGs5l1CF"
      },
      "execution_count": null,
      "outputs": []
    },
    {
      "cell_type": "markdown",
      "source": [
        "## Actor and Critic"
      ],
      "metadata": {
        "id": "TXGwH983l1bD"
      }
    },
    {
      "cell_type": "code",
      "source": [
        "class Actor(nn.Module):\n",
        "    def __init__(self, input_dim, output_dim):\n",
        "        super(Actor, self).__init__()\n",
        "        self.fc = nn.Linear(input_dim, 128)\n",
        "        self.out = nn.Linear(128, output_dim)\n",
        "\n",
        "    def forward(self, x):\n",
        "        x = torch.relu(self.fc(x))\n",
        "        return torch.softmax(self.out(x), dim=-1)\n",
        "\n",
        "\n",
        "class Critic(nn.Module):\n",
        "    def __init__(self, input_dim=3):\n",
        "        super(Critic, self).__init__()\n",
        "        self.fc = nn.Linear(input_dim, 128)\n",
        "        self.out = nn.Linear(128, 1)\n",
        "\n",
        "    def forward(self, x):\n",
        "        x = torch.relu(self.fc(x))\n",
        "        return self.out(x)\n"
      ],
      "metadata": {
        "id": "mndb4TXAYwfL"
      },
      "execution_count": null,
      "outputs": []
    },
    {
      "cell_type": "code",
      "execution_count": null,
      "metadata": {
        "id": "itXXXacbM_nP"
      },
      "outputs": [],
      "source": [
        "\n",
        "class A2CAgent:\n",
        "    def __init__(self, input_dim, n_actions, lr):\n",
        "        self.actor = Actor(input_dim, n_actions)\n",
        "        self.critic = Critic(input_dim)\n",
        "        self.optimizer_actor = optim.Adam(self.actor.parameters(), lr=lr)\n",
        "        self.optimizer_critic = optim.Adam(self.critic.parameters(), lr=lr)\n",
        "\n",
        "    def act(self, state):\n",
        "        state = torch.tensor(state, dtype=torch.float32)\n",
        "        probs = self.actor(state).squeeze()\n",
        "        #print(probs)\n",
        "        action = torch.multinomial(probs, num_samples=1)\n",
        "        return action.item()\n",
        "\n"
      ]
    },
    {
      "cell_type": "markdown",
      "metadata": {
        "id": "YZF9i0PIOnw2"
      },
      "source": [
        "\n",
        "\n",
        "```\n",
        "# This is formatted as code\n",
        "```\n",
        "\n",
        "##  Training"
      ]
    },
    {
      "cell_type": "code",
      "source": [
        "if __name__ == \"__main__\":\n",
        "    prices = np.random.rand(100)\n",
        "    assets = DataGetter(\"XRP-USD\", start_date=\"2015-08-01\", end_date=\"2022-08-30\")\n",
        "    env = SingleAssetTradingEnvironment(assets)\n",
        "    agent = A2CAgent(input_dim=34, n_actions=3, lr=0.0005)\n",
        "\n",
        "    N_EPISODES = 20 # No of episodes/epochs\n",
        "    scores = []\n",
        "    eps = EPS_START\n",
        "    act_dict = {0:-1, 1:1, 2:0}\n",
        "\n",
        "    for episode in range(N_EPISODES):\n",
        "        state = env.reset()\n",
        "        done = False\n",
        "        total_reward = 0\n",
        "\n",
        "\n",
        "\n",
        "        while not done:\n",
        "            action = agent.act(state)\n",
        "            #action = act_dict[actions]\n",
        "            next_state, reward, done,_ = env.step(action)\n",
        "            #print(next_state)\n",
        "            next_state = torch.tensor(next_state, dtype=torch.float32)\n",
        "\n",
        "            # Compute advantage and update actor and critic\n",
        "            advantage = reward + (1 - done) * agent.critic(next_state.detach()) - agent.critic(torch.tensor(state, dtype=torch.float32))\n",
        "            total_reward += reward\n",
        "\n",
        "            actor_loss = -torch.log(agent.actor(torch.tensor(state, dtype=torch.float32)).squeeze()[action]) * advantage.squeeze().item()\n",
        "\n",
        "\n",
        "            critic_loss = advantage.pow(2)\n",
        "\n",
        "            agent.optimizer_actor.zero_grad()\n",
        "            actor_loss.backward()\n",
        "            agent.optimizer_actor.step()\n",
        "\n",
        "            agent.optimizer_critic.zero_grad()\n",
        "            critic_loss.backward()\n",
        "            agent.optimizer_critic.step()\n",
        "\n",
        "            state = next_state\n",
        "\n",
        "\n",
        "        print(f\"Episode: {episode+1}, Total Reward: {total_reward}\")\n",
        "clear_output()"
      ],
      "metadata": {
        "id": "vAPxSPApZcdD"
      },
      "execution_count": null,
      "outputs": []
    },
    {
      "cell_type": "code",
      "source": [
        "# test the agent\n",
        "assets = DataGetter(\"XRP-USD\", start_date=\"2022-08-30\", end_date=\"2023-08-30\")\n",
        "test_env=SingleAssetTradingEnvironment(assets)\n",
        "\n",
        "state = test_env.reset()\n",
        "done = False\n",
        "ACTIONS=[]\n",
        "REWARDS=[]\n",
        "DATES=[]\n",
        "CLOSES=[]\n",
        "CAPITALS=[]\n",
        "date=test_env.asset_data.frame.index\n",
        "close=test_env.asset_data.frame['Adj Close']\n",
        "DATES.append(date)\n",
        "CLOSES.append(close)\n",
        "while not done:\n",
        "\n",
        "\n",
        "    action = agent.act(state)\n",
        "    state, reward, done,_ = test_env.step(action)\n",
        "    ACTIONS.append(action)\n",
        "    REWARDS.append(reward)\n",
        "    CAPITALS.append(test_env.store['running_capital'])\n",
        "\n",
        "\n",
        "\n",
        "    # Log/analyze the trading performance"
      ],
      "metadata": {
        "colab": {
          "base_uri": "https://localhost:8080/"
        },
        "id": "qxHw1Nm8MFPh",
        "outputId": "3c1e26c7-5ed4-4042-f325-61f7c56ea8f1"
      },
      "execution_count": null,
      "outputs": [
        {
          "output_type": "stream",
          "name": "stdout",
          "text": [
            "[*********************100%%**********************]  1 of 1 completed\n",
            "[*********************100%%**********************]  1 of 1 completed\n"
          ]
        }
      ]
    },
    {
      "cell_type": "markdown",
      "metadata": {
        "id": "M6dFR1LaOdk5"
      },
      "source": [
        "::\n",
        "For training the Agent, we shall consider the historical price data from 2015/08/01 to 2022/08/30 and for validation, 2022/08/30 to 2023/08/30.\n",
        "\n",
        "Deep Learning models typically require a humongous amount of data. For the chosen training period, we have approximately, 1275 data points for each asset which is not enough. So we choose multiple assets to train the agent as it gives us more data points."
      ]
    },
    {
      "cell_type": "code",
      "source": [
        "#print(REWARDS)"
      ],
      "metadata": {
        "id": "xCnafkb5ARoi"
      },
      "execution_count": null,
      "outputs": []
    },
    {
      "cell_type": "code",
      "execution_count": null,
      "metadata": {
        "id": "eoSq7IURGuor"
      },
      "outputs": [],
      "source": [
        "import pandas as pd"
      ]
    },
    {
      "cell_type": "code",
      "source": [
        "#print(CLOSES)"
      ],
      "metadata": {
        "id": "NucUIKBAFir3"
      },
      "execution_count": null,
      "outputs": []
    },
    {
      "cell_type": "code",
      "source": [
        "#print(ACTIONS)"
      ],
      "metadata": {
        "id": "92RvmkO26T2K"
      },
      "execution_count": null,
      "outputs": []
    },
    {
      "cell_type": "code",
      "source": [
        "date_list = [date.to_list() for date in DATES]"
      ],
      "metadata": {
        "id": "RBV-8weG5o7Y"
      },
      "execution_count": null,
      "outputs": []
    },
    {
      "cell_type": "code",
      "source": [
        "dates=[]\n",
        "for i in date_list:\n",
        "  for j in i:\n",
        "    dates.append(str(j.date()))"
      ],
      "metadata": {
        "id": "IR5PxKZe6QFg"
      },
      "execution_count": null,
      "outputs": []
    },
    {
      "cell_type": "code",
      "source": [
        "ACTIONS=[0]+ACTIONS\n",
        "REWARDS=[0]+REWARDS\n",
        "dates=dates\n",
        "print(len(dates))\n",
        "print(len(ACTIONS))\n",
        "#print(dates)"
      ],
      "metadata": {
        "colab": {
          "base_uri": "https://localhost:8080/"
        },
        "id": "6LPJuEwf8-Gf",
        "outputId": "b858722c-7eb7-40fc-dfde-c9c1f2c80180"
      },
      "execution_count": null,
      "outputs": [
        {
          "output_type": "stream",
          "name": "stdout",
          "text": [
            "365\n",
            "365\n"
          ]
        }
      ]
    },
    {
      "cell_type": "code",
      "source": [
        "CLOSES_1=CLOSES[0]\n",
        "\n",
        "#CLOSES_1"
      ],
      "metadata": {
        "id": "w36mAly6IMLA"
      },
      "execution_count": null,
      "outputs": []
    },
    {
      "cell_type": "code",
      "source": [
        "#print(ACTIONS)"
      ],
      "metadata": {
        "id": "6QA2oigp-g0I"
      },
      "execution_count": null,
      "outputs": []
    },
    {
      "cell_type": "code",
      "source": [
        "#print(CAPITALS)"
      ],
      "metadata": {
        "id": "CM2gjgvDEaUw"
      },
      "execution_count": null,
      "outputs": []
    },
    {
      "cell_type": "code",
      "source": [
        "import matplotlib.pyplot as plt\n",
        "import pandas as pd\n",
        "\n",
        "\n",
        "\n",
        "# Create a DataFrame from the data\n",
        "df = pd.DataFrame({'Date': dates, 'Close': CLOSES_1, 'Actions':ACTIONS})\n",
        "\n",
        "\n",
        "# Create buy and sell signals based on Actions column\n",
        "buy_indices = [i for i, val in enumerate(df['Actions']) if val == 2]\n",
        "sell_indices = [i for i, val in enumerate(df['Actions']) if val == 0]\n",
        "\n",
        "# Create a figure and axis\n",
        "fig, ax = plt.subplots(figsize=(7, 7))\n",
        "\n",
        "# Plot the Close price\n",
        "ax.plot(df['Date'], df['Close'], label='Close Price', color='b')\n",
        "\n",
        "# Plot buy signals (green)\n",
        "ax.scatter(df['Date'][buy_indices], df['Close'][buy_indices], marker='^', color='g', label='Buy Signal', s=100)\n",
        "\n",
        "# Plot sell signals (red)\n",
        "ax.scatter(df['Date'][sell_indices], df['Close'][sell_indices], marker='v', color='r', label='Sell Signal', s=100)\n",
        "\n",
        "# Set x-axis labels to be every two months\n",
        "plt.xticks(df['Date'][::60], rotation=45)\n",
        "\n",
        "# Set y-axis label\n",
        "ax.set_ylabel('Close Price')\n",
        "\n",
        "# Add a legend\n",
        "ax.legend()\n",
        "\n",
        "# Set the title\n",
        "plt.title('XRP-USD Trade Signals')\n",
        "\n",
        "# Show the plot\n",
        "plt.tight_layout()\n",
        "plt.show()"
      ],
      "metadata": {
        "colab": {
          "base_uri": "https://localhost:8080/",
          "height": 707
        },
        "id": "rr_Tv7yoEttS",
        "outputId": "45e92a37-b46c-4e10-b5b5-8b14ae77d9bc"
      },
      "execution_count": null,
      "outputs": [
        {
          "output_type": "display_data",
          "data": {
            "text/plain": [
              "<Figure size 700x700 with 1 Axes>"
            ],
            "image/png": "[encoded data removed]"
          },
          "metadata": {}
        }
      ]
    },
    {
      "cell_type": "code",
      "source": [
        "dates = test_env.asset_data.frame.index\n",
        "print(CAPITAL)\n",
        "print(len(dates))"
      ],
      "metadata": {
        "id": "FrKk3gQwiRp6",
        "colab": {
          "base_uri": "https://localhost:8080/"
        },
        "outputId": "159d251a-8e19-4822-d599-58dcc6c80407"
      },
      "execution_count": null,
      "outputs": [
        {
          "output_type": "stream",
          "name": "stdout",
          "text": [
            "100000\n",
            "365\n"
          ]
        }
      ]
    },
    {
      "cell_type": "code",
      "execution_count": null,
      "metadata": {
        "id": "XmkVhSNzPXuH",
        "colab": {
          "base_uri": "https://localhost:8080/",
          "height": 707
        },
        "outputId": "46c778e1-72ea-4a8f-e94e-b63d7a0b627c"
      },
      "outputs": [
        {
          "output_type": "display_data",
          "data": {
            "text/plain": [
              "<Figure size 700x700 with 1 Axes>"
            ],
            "image/png": "[encoded data removed]"
          },
          "metadata": {}
        }
      ],
      "source": [
        "fig, ax = plt.subplots(figsize=(7, 7))\n",
        "\n",
        "\n",
        "CAPITALS1=[CAPITAL]+CAPITALS[0]\n",
        "ax.plot(dates,np.ones(len(dates))*CAPITAL, label='Initial position')\n",
        "ax.plot(dates,CAPITALS1, label = 'Running capital', color='r')\n",
        "\n",
        "# Add a legend\n",
        "ax.legend()\n",
        "\n",
        "# Show the plot\n",
        "plt.title('XRP-USD Portofolio Wealth')\n",
        "plt.tight_layout()\n",
        "plt.show()\n",
        "\n",
        "\n",
        "#plt.plot(dates,CAPITALS_1)"
      ]
    },
    {
      "cell_type": "code",
      "source": [],
      "metadata": {
        "id": "ip4aPFimUCtD"
      },
      "execution_count": null,
      "outputs": []
    }
  ],
  "metadata": {
    "colab": {
      "provenance": [],
      "gpuType": "T4",
      "include_colab_link": true
    },
    "kernelspec": {
      "display_name": "Python 3",
      "name": "python3"
    },
    "language_info": {
      "codemirror_mode": {
        "name": "ipython",
        "version": 3
      },
      "file_extension": ".py",
      "mimetype": "text/x-python",
      "name": "python",
      "nbconvert_exporter": "python",
      "pygments_lexer": "ipython3",
      "version": "3.10.9"
    },
    "vscode": {
      "interpreter": {
        "hash": "7a2fac7082c9fd197cae6c34e59831c2d1cabe6936d70c69517db7d424f3e7ae"
      }
    },
    "accelerator": "GPU"
  },
  "nbformat": 4,
  "nbformat_minor": 0
}