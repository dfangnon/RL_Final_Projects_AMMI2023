{
  "cells": [
    {
      "cell_type": "markdown",
      "metadata": {
        "id": "view-in-github",
        "colab_type": "text"
      },
      "source": [
        "<a href=\"https://colab.research.google.com/github/dfangnon/RL_Final_Projects_AMMI2023/blob/main/RL_trading_system_good3.ipynb\" target=\"_parent\"><img src=\"https://colab.research.google.com/assets/colab-badge.svg\" alt=\"Open In Colab\"/></a>"
      ]
    },
    {
      "cell_type": "code",
      "execution_count": null,
      "metadata": {
        "id": "29HU93JwHb7_"
      },
      "outputs": [],
      "source": [
        "!pip install yfinance\n",
        "from IPython.display import clear_output\n",
        "clear_output()"
      ]
    },
    {
      "cell_type": "code",
      "execution_count": null,
      "metadata": {
        "id": "PxQSPgEaX4t0",
        "colab": {
          "base_uri": "https://localhost:8080/"
        },
        "outputId": "1f5439a0-24a3-4aa7-eea1-448a1e09d6bc"
      },
      "outputs": [
        {
          "output_type": "stream",
          "name": "stdout",
          "text": [
            "cpu\n"
          ]
        }
      ],
      "source": [
        "# let us set the device\n",
        "import torch\n",
        "DEVICE = 'cuda' if torch.cuda.is_available() else 'cpu'\n",
        "print(DEVICE)"
      ]
    },
    {
      "cell_type": "code",
      "source": [
        "#In this notebook, we are going to train a reinforcement learning system\n",
        "#!pip install yfinance\n",
        "import yfinance as yf\n",
        "from collections import namedtuple,deque\n",
        "from torch import nn\n",
        "import torch\n",
        "from torch import optim\n",
        "import numpy as np\n",
        "from sklearn.preprocessing import StandardScaler\n",
        "import random"
      ],
      "metadata": {
        "id": "SBqpSCHnGz2W"
      },
      "execution_count": null,
      "outputs": []
    },
    {
      "cell_type": "markdown",
      "metadata": {
        "id": "NZHT5ZxUJOFA"
      },
      "source": []
    },
    {
      "cell_type": "code",
      "execution_count": null,
      "metadata": {
        "id": "OSY5-mYVICwK"
      },
      "outputs": [],
      "source": [
        "#STATE_SPACE = 28\n",
        "STATE_SPACE = 34\n",
        "ACTION_SPACE = 3\n",
        "\n",
        "ACTION_LOW = -1\n",
        "ACTION_HIGH = 1\n",
        "\n",
        "GAMMA = 0.9995\n",
        "TAU = 1e-3\n",
        "EPS_START = 1.0\n",
        "EPS_END = 0.1\n",
        "EPS_DECAY = 0.9\n",
        "\n",
        "MEMORY_LEN = 10000\n",
        "MEMORY_THRESH = 500\n",
        "BATCH_SIZE = 200\n",
        "\n",
        "LR_DQN = 5e-4\n",
        "\n",
        "LEARN_AFTER = MEMORY_THRESH\n",
        "LEARN_EVERY = 3\n",
        "UPDATE_EVERY = 9\n",
        "\n",
        "COST = 3e-4\n",
        "CAPITAL = 100000\n",
        "NEG_MUL = 2"
      ]
    },
    {
      "cell_type": "markdown",
      "metadata": {
        "id": "Yc5egHpNI57s"
      },
      "source": [
        "### Now we need to generate the observation space. The following code snippet does the same. First, it downloads the required time series data for the given ticker, date and frequency from the Yahoo Finance website using yfinance python module. Later, it engineers the required features for the observation space."
      ]
    },
    {
      "cell_type": "code",
      "execution_count": null,
      "metadata": {
        "id": "twipud_bJQVf"
      },
      "outputs": [],
      "source": []
    },
    {
      "cell_type": "code",
      "execution_count": null,
      "metadata": {
        "id": "j1hFve4BIrxg"
      },
      "outputs": [],
      "source": [
        "class DataGetter:\n",
        "  \"\"\"\n",
        "  The class for getting data for assets.\n",
        "  \"\"\"\n",
        "\n",
        "  def __init__(self, asset=\"BTC-USD\", start_date=None, end_date=None, freq=\"1d\",\n",
        "               timeframes=[1,2,5, 10, 20, 40]):\n",
        "    self.asset = asset\n",
        "    self.sd = start_date\n",
        "    self.ed = end_date\n",
        "    self.freq = freq\n",
        "\n",
        "    self.timeframes = timeframes\n",
        "    self.getData()\n",
        "\n",
        "    self.scaler = StandardScaler()\n",
        "    self.scaler.fit(self.data[:, 1:])\n",
        "\n",
        "\n",
        "  def getData(self):\n",
        "\n",
        "    asset = self.asset\n",
        "    if self.sd is not None and self.ed is not None:\n",
        "      df =  yf.download([asset], start=self.sd, end=self.ed, interval=self.freq)\n",
        "      df_spy = yf.download([\"BTC-USD\"], start=self.sd, end=self.ed, interval=self.freq)\n",
        "    elif self.sd is None and self.ed is not None:\n",
        "      df =  yf.download([asset], end=self.ed, interval=self.freq)\n",
        "      df_spy = yf.download([\"BTC-USD\"], end=self.ed, interval=self.freq)\n",
        "    elif self.sd is not None and self.ed is None:\n",
        "      df =  yf.download([asset], start=self.sd, interval=self.freq)\n",
        "      df_spy = yf.download([\"BTC-USD\"], start=self.sd, interval=self.freq)\n",
        "    else:\n",
        "      df = yf.download([asset], period=\"max\", interval=self.freq)\n",
        "      df_spy = yf.download([\"BTC-USD\"], interval=self.freq)\n",
        "\n",
        "    # Reward - Not included in Observation Space.\n",
        "    #print(df_spy.head())\n",
        "    df[\"rf\"] = df[\"Adj Close\"].pct_change().shift(-1)\n",
        "\n",
        "    # Returns and Trading Volume Changes\n",
        "    for i in self.timeframes:\n",
        "      df_spy[f\"spy_ret-{i}\"] = df_spy[\"Adj Close\"].pct_change(i)\n",
        "      df_spy[f\"spy_v-{i}\"] = df_spy[\"Volume\"].pct_change(i)\n",
        "\n",
        "      df[f\"r-{i}\"] = df[\"Adj Close\"].pct_change(i)\n",
        "      df[f\"v-{i}\"] = df[\"Volume\"].pct_change(i)\n",
        "\n",
        "    # Volatility\n",
        "    for i in [5, 10, 20, 40]:\n",
        "      df[f'sig-{i}'] = np.log(1 + df[\"r-1\"]).rolling(i).std()\n",
        "\n",
        "    # Moving Average Convergence Divergence (MACD)\n",
        "    df[\"macd_lmw\"] = df[\"r-1\"].ewm(span=26, adjust=False).mean()\n",
        "    df[\"macd_smw\"] = df[\"r-1\"].ewm(span=12, adjust=False).mean()\n",
        "    df[\"macd_bl\"] = df[\"r-1\"].ewm(span=9, adjust=False).mean()\n",
        "    df[\"macd\"] = df[\"macd_smw\"] - df[\"macd_lmw\"]\n",
        "\n",
        "    # Relative Strength Indicator (RSI)\n",
        "    rsi_lb = 5\n",
        "    pos_gain = df[\"r-1\"].where(df[\"r-1\"] > 0, 0).ewm(rsi_lb).mean()\n",
        "    neg_gain = df[\"r-1\"].where(df[\"r-1\"] < 0, 0).ewm(rsi_lb).mean()\n",
        "    rs = np.abs(pos_gain/neg_gain)\n",
        "    df[\"rsi\"] = 100 * rs/(1 + rs)\n",
        "\n",
        "    # Bollinger Bands\n",
        "    bollinger_lback = 10\n",
        "    df[\"bollinger\"] = df[\"r-1\"].ewm(bollinger_lback).mean()\n",
        "    df[\"low_bollinger\"] = df[\"bollinger\"] - 2 * df[\"r-1\"].rolling(bollinger_lback).std()\n",
        "    df[\"high_bollinger\"] = df[\"bollinger\"] + 2 * df[\"r-1\"].rolling(bollinger_lback).std()\n",
        "\n",
        "    # SP500\n",
        "    #print(self.timeframes)\n",
        "    #df = df.merge(df_spy[[f\"spy_ret-{i}\" for i in self.timeframes] + [f\"spy_sig-{i}\" for i in [5, 10, 20, 40]]],\n",
        "    df = df.merge(df_spy[[f\"spy_ret-{i}\" for i in self.timeframes]],\n",
        "                  how=\"left\", right_index=True, left_index=True)\n",
        "\n",
        "    # Filtering\n",
        "    for c in df.columns:\n",
        "      df[c].interpolate('linear', limit_direction='both', inplace=True)\n",
        "    df.replace([np.inf, -np.inf], np.nan, inplace=True)\n",
        "    df.dropna(inplace=True)\n",
        "\n",
        "    self.frame = df\n",
        "    self.data = np.array(df.iloc[:, 6:])\n",
        "    return\n",
        "\n",
        "\n",
        "  def scaleData(self):\n",
        "    self.scaled_data = self.scaler.fit_transform(self.data[:, 1:])\n",
        "    return\n",
        "\n",
        "\n",
        "  def __len__(self):\n",
        "    return len(self.data)\n",
        "\n",
        "\n",
        "  def __getitem__(self, idx, col_idx=None):\n",
        "    if col_idx is None:\n",
        "      return self.data[idx]\n",
        "    elif col_idx < len(list(self.data.columns)):\n",
        "      return self.data[idx][col_idx]\n",
        "    else:\n",
        "      raise IndexError\n"
      ]
    },
    {
      "cell_type": "markdown",
      "metadata": {
        "id": "O-TPHvuZJTTF"
      },
      "source": [
        "### The following snippet is the custom trading environment implementation for trading a single asset. It takes as input the DataGetter class for an asset. While there are a lot of functions in the environment class, the two main functions are step() and reset()."
      ]
    },
    {
      "cell_type": "code",
      "execution_count": null,
      "metadata": {
        "id": "s21YZ_QUJc-p"
      },
      "outputs": [],
      "source": [
        "class SingleAssetTradingEnvironment:\n",
        "  \"\"\"\n",
        "  Trading Environment for trading a single asset.\n",
        "  The Agent interacts with the environment class through the step() function.\n",
        "  Action Space: {-1: Sell, 0: Do Nothing, 1: Buy}\n",
        "  \"\"\"\n",
        "\n",
        "  def __init__(self, asset_data,\n",
        "               initial_money=CAPITAL, trans_cost=COST, store_flag=1, asset_ph=0,\n",
        "               capital_frac=0.2, running_thresh=0.1, cap_thresh=0.3):\n",
        "\n",
        "    self.past_holding = asset_ph\n",
        "    self.capital_frac = capital_frac # Fraction of capital to invest each time.\n",
        "    self.cap_thresh = cap_thresh\n",
        "    self.running_thresh = running_thresh\n",
        "    self.trans_cost = trans_cost\n",
        "\n",
        "    self.asset_data = asset_data\n",
        "    self.terminal_idx = len(self.asset_data) - 1\n",
        "    self.scaler = self.asset_data.scaler\n",
        "\n",
        "    self.initial_cap = initial_money\n",
        "\n",
        "    self.capital = self.initial_cap\n",
        "    self.running_capital = self.capital\n",
        "    self.asset_inv = self.past_holding\n",
        "\n",
        "    self.pointer = 0\n",
        "    self.next_return, self.current_state = 0, None\n",
        "    self.prev_act = 0\n",
        "    self.current_act = 0\n",
        "    self.current_reward = 0\n",
        "    self.current_price = self.asset_data.frame.iloc[self.pointer, :]['Adj Close']\n",
        "    self.done = False\n",
        "\n",
        "    self.store_flag = store_flag\n",
        "    if self.store_flag == 1:\n",
        "      self.store = {\"action_store\": [],\n",
        "                    \"reward_store\": [],\n",
        "                    \"running_capital\": [],\n",
        "                    \"port_ret\": []}\n",
        "\n",
        "\n",
        "  def reset(self):\n",
        "    self.capital = self.initial_cap\n",
        "    self.running_capital = self.capital\n",
        "    self.asset_inv = self.past_holding\n",
        "\n",
        "    self.pointer = 0\n",
        "    self.next_return, self.current_state = self.get_state(self.pointer)\n",
        "    self.prev_act = 0\n",
        "    self.current_act = 0\n",
        "    self.current_reward = 0\n",
        "    self.current_price = self.asset_data.frame.iloc[self.pointer, :]['Adj Close']\n",
        "    self.done = False\n",
        "\n",
        "    if self.store_flag == 1:\n",
        "      self.store = {\"action_store\": [],\n",
        "                    \"reward_store\": [],\n",
        "                    \"running_capital\": [],\n",
        "                    \"port_ret\": []}\n",
        "\n",
        "    return self.current_state\n",
        "\n",
        "\n",
        "  def step(self, action):\n",
        "    self.current_act = action\n",
        "    self.current_price = self.asset_data.frame.iloc[self.pointer, :]['Adj Close']\n",
        "    self.current_reward = self.calculate_reward()\n",
        "    self.prev_act = self.current_act\n",
        "    self.pointer += 1\n",
        "    self.next_return, self.current_state = self.get_state(self.pointer)\n",
        "    self.done = self.check_terminal()\n",
        "\n",
        "    if self.done:\n",
        "      reward_offset = 0\n",
        "      ret = (self.store['running_capital'][-1]/self.store['running_capital'][-0]) - 1\n",
        "      if self.pointer < self.terminal_idx:\n",
        "        reward_offset += -1 * max(0.5, 1 - self.pointer/self.terminal_idx)\n",
        "      if self.store_flag:\n",
        "        reward_offset += 10 * ret\n",
        "      self.current_reward += reward_offset\n",
        "\n",
        "    if self.store_flag:\n",
        "      self.store[\"action_store\"].append(self.current_act)\n",
        "      self.store[\"reward_store\"].append(self.current_reward)\n",
        "      self.store[\"running_capital\"].append(self.capital)\n",
        "      info = self.store\n",
        "    else:\n",
        "      info = None\n",
        "\n",
        "    return self.current_state, self.current_reward, self.done, info\n",
        "\n",
        "\n",
        "  def calculate_reward(self):\n",
        "    investment = self.running_capital * self.capital_frac\n",
        "    reward_offset = 0\n",
        "\n",
        "    # Buy Action\n",
        "    if self.current_act == 1:\n",
        "      if self.running_capital > self.initial_cap * self.running_thresh:\n",
        "        self.running_capital -= investment\n",
        "        asset_units = investment/self.current_price\n",
        "        self.asset_inv += asset_units\n",
        "        self.current_price *= (1 - self.trans_cost)\n",
        "\n",
        "    # Sell Action\n",
        "    elif self.current_act == -1:\n",
        "      if self.asset_inv > 0:\n",
        "        self.running_capital += self.asset_inv * self.current_price * (1 - self.trans_cost)\n",
        "        self.asset_inv = 0\n",
        "\n",
        "    # Do Nothing\n",
        "    elif self.current_act == 0:\n",
        "      if self.prev_act == 0:\n",
        "        reward_offset += -0.1\n",
        "      pass\n",
        "\n",
        "    # Reward to give\n",
        "    prev_cap = self.capital\n",
        "    self.capital = self.running_capital + (self.asset_inv) * self.current_price\n",
        "    reward = 100*(self.next_return) * self.current_act - np.abs(self.current_act - self.prev_act) * self.trans_cost\n",
        "    if self.store_flag==1:\n",
        "      self.store['port_ret'].append((self.capital - prev_cap)/prev_cap)\n",
        "\n",
        "    if reward < 0:\n",
        "      reward *= NEG_MUL  # To make the Agent more risk averse towards negative returns.\n",
        "    reward += reward_offset\n",
        "\n",
        "    return reward\n",
        "\n",
        "\n",
        "  def check_terminal(self):\n",
        "    if self.pointer == self.terminal_idx:\n",
        "      return True\n",
        "    elif self.capital <= self.initial_cap * self.cap_thresh:\n",
        "      return True\n",
        "    else:\n",
        "      return False\n",
        "\n",
        "\n",
        "  def get_state(self, idx):\n",
        "    state = self.asset_data[idx][1:]\n",
        "    state = self.scaler.transform(state.reshape(1, -1))\n",
        "\n",
        "    state = np.concatenate([state, [[self.capital/self.initial_cap,\n",
        "                                     self.running_capital/self.capital,\n",
        "                                     self.asset_inv * self.current_price/self.initial_cap,\n",
        "                                     self.prev_act]]], axis=-1)\n",
        "\n",
        "    next_ret = self.asset_data[idx][0]\n",
        "    return next_ret, state"
      ]
    },
    {
      "cell_type": "markdown",
      "metadata": {
        "id": "HoEHiBrILCU3"
      },
      "source": [
        "##Architecture (Online & Target Networks)"
      ]
    },
    {
      "cell_type": "markdown",
      "metadata": {
        "id": "XNLUEMAJK74Y"
      },
      "source": [
        "Architecture (Online & Target Networks)\n",
        "The Agent contains two identical artificial neural networks known as online and target networks with the same architecture. The shape of input is the same as the shape of the state representation vector and the shape of output is the number of actions available. In our case, it is 3 (Buy, Sell & Do Nothing)\n",
        "\n",
        "The online network is the one which learns from experiences and performs the optimisation step. Once every few timesteps, the weights of the online network are copied to the target network. Both the networks are used in the objective function. The online network is represented by Q(s, a; θ) and the target network is given by Q(s’, a; θ’) in the Bellman Equation given above. The learning step involves minimising the difference between LHS and RHS in the Bellman Equation.\n",
        "\n",
        "The frequency of learning from experiences and updating the target network weights can be controlled by the parameters LEARN_AFTER, LEARN_EVERY and UPDATE_EVERY variables in the parameters code block.\n",
        "\n",
        "Experience Replay\n",
        "Every time the agent receives a state from the environment, it stores the experience tuple (current state, action taken, reward received, next state, indicator variable for terminal state) in a limited capacity memory, generally a Deque data structure. If the memory gets full, then new experiences will simply overwrite the old ones. Once enough experiences are collected, then the Agent randomly samples from these experiences and begins to learn every few timesteps.\n",
        "\n",
        "This is required to prevent updating the weights of the neural network too soon with too few data points and also to eliminate the temporal correlation among the consecutive states given to the agent by the environment."
      ]
    },
    {
      "cell_type": "code",
      "execution_count": null,
      "metadata": {
        "id": "I_9gAlagK-P5"
      },
      "outputs": [],
      "source": [
        "Transition = namedtuple(\"Transition\", [\"States\", \"Actions\", \"Rewards\", \"NextStates\", \"Dones\"])\n",
        "\n",
        "\n",
        "class ReplayMemory:\n",
        "  \"\"\"\n",
        "  Implementation of Agent memory\n",
        "  \"\"\"\n",
        "  def __init__(self, capacity=MEMORY_LEN):\n",
        "    self.memory = deque(maxlen=capacity)\n",
        "\n",
        "  def store(self, t):\n",
        "    self.memory.append(t)\n",
        "\n",
        "  def sample(self, n):\n",
        "    a = random.sample(self.memory, n)\n",
        "    return a\n",
        "\n",
        "  def __len__(self):\n",
        "    return len(self.memory)"
      ]
    },
    {
      "cell_type": "markdown",
      "metadata": {
        "id": "KziYsOD0Mr0a"
      },
      "source": [
        "## Exploration vs Exploitation dilemma"
      ]
    },
    {
      "cell_type": "markdown",
      "metadata": {
        "id": "g85csJUzMnp6"
      },
      "source": [
        "The exploration vs. exploitation dilemma is a fundamental challenge in reinforcement learning. It involves allowing an agent to sometimes take random actions (exploration) rather than always following a fixed policy (exploitation). This randomness helps the agent learn how different actions affect rewards. During early training, more exploration is needed, while as training progresses, more exploitation is favored to maximize rewards. Parameters like EPS_START, EPS_END, and EPS_DECAY control this transition."
      ]
    },
    {
      "cell_type": "code",
      "execution_count": null,
      "metadata": {
        "id": "CJOV8BB_Np-P"
      },
      "outputs": [],
      "source": [
        "class DuellingDQN(nn.Module):\n",
        "  \"\"\"\n",
        "  Acrchitecture for Duelling Deep Q Network Agent\n",
        "  \"\"\"\n",
        "\n",
        "  def __init__(self, input_dim=STATE_SPACE, output_dim=ACTION_SPACE):\n",
        "    super(DuellingDQN, self).__init__()\n",
        "    self.input_dim = input_dim\n",
        "    self.output_dim = output_dim\n",
        "\n",
        "    self.fc1 = nn.Linear(self.input_dim, 500)\n",
        "    self.fc2 = nn.Linear(500, 500)\n",
        "    self.fc3 = nn.Linear(500, 300)\n",
        "    self.fc4 = nn.Linear(300, 200)\n",
        "    self.fc5 = nn.Linear(200, 10)\n",
        "\n",
        "    self.fcs = nn.Linear(10, 1)\n",
        "    self.fcp = nn.Linear(10, self.output_dim)\n",
        "    self.fco = nn.Linear(self.output_dim + 1, self.output_dim)\n",
        "\n",
        "    self.relu = nn.ReLU()\n",
        "    self.tanh = nn.Tanh()\n",
        "    self.sig = nn.Sigmoid()\n",
        "    self.sm = nn.Softmax(dim=1)\n",
        "\n",
        "  def forward(self, state):\n",
        "    x = self.relu(self.fc1(state))\n",
        "    x = self.relu(self.fc2(x))\n",
        "    x = self.relu(self.fc3(x))\n",
        "    x = self.relu(self.fc4(x))\n",
        "    x = self.relu(self.fc5(x))\n",
        "    xs = self.relu(self.fcs(x))\n",
        "    xp = self.relu(self.fcp(x))\n",
        "\n",
        "    x = xs + xp - xp.mean()\n",
        "    return x\n",
        "\n"
      ]
    },
    {
      "cell_type": "code",
      "source": [
        "class SimpleDQN(nn.Module):\n",
        "  \"\"\"\n",
        "  Acrchitecture for Duelling Deep Q Network Agent\n",
        "  \"\"\"\n",
        "\n",
        "  def __init__(self, input_dim=STATE_SPACE, output_dim=ACTION_SPACE):\n",
        "    super(SimpleDQN, self).__init__()\n",
        "    self.input_dim = input_dim\n",
        "    self.output_dim = output_dim\n",
        "\n",
        "    self.fc1 = nn.Linear(self.input_dim, 64)\n",
        "    self.fc2 = nn.Linear(64, 64)\n",
        "    self.fc3 = nn.Linear(64, output_dim)\n",
        "    #self.fc4 = nn.Linear(64, output_dim)\n",
        "    # self.fc5 = nn.Linear(200, 10)\n",
        "    # self.fc5 = nn.Linear(10, self.output_dim)\n",
        "\n",
        "\n",
        "\n",
        "    self.relu = nn.ReLU()\n",
        "    self.tanh = nn.Tanh()\n",
        "    self.sig = nn.Sigmoid()\n",
        "    self.sm = nn.Softmax(dim=1)\n",
        "\n",
        "  def forward(self, state):\n",
        "    x = self.relu(self.fc1(state))\n",
        "    x = self.relu(self.fc2(x))\n",
        "    x = self.relu(self.fc3(x))\n",
        "    # x = self.relu(self.fc4(x))\n",
        "    # x = self.relu(self.fc5(x))\n",
        "\n",
        "    return x\n",
        "\n"
      ],
      "metadata": {
        "id": "4pdoYnl6QbKU"
      },
      "execution_count": null,
      "outputs": []
    },
    {
      "cell_type": "code",
      "source": [
        "class DoubleDQN(nn.Module):\n",
        "    def __init__(self, input_dim=STATE_SPACE, output_dim=ACTION_SPACE):\n",
        "        super(DoubleDQN, self).__init__()\n",
        "\n",
        "        # Define the online and target Q-networks\n",
        "        self.online_q_network = nn.Sequential(\n",
        "            nn.Linear(input_dim, 64),\n",
        "            nn.ReLU(),\n",
        "            nn.Linear(64, 64),\n",
        "            nn.ReLU(),\n",
        "            nn.Linear(64, output_dim)\n",
        "        )\n",
        "\n",
        "        self.target_q_network = nn.Sequential(\n",
        "            nn.Linear(input_dim, 64),\n",
        "            nn.ReLU(),\n",
        "            nn.Linear(64, 64),\n",
        "            nn.ReLU(),\n",
        "            nn.Linear(64, output_dim)\n",
        "        )\n",
        "\n",
        "    def forward(self, state):\n",
        "        # Compute Q-values using the online Q-network\n",
        "        online_q_values = self.online_q_network(state)\n",
        "\n",
        "        return online_q_values\n"
      ],
      "metadata": {
        "id": "KcJXvuUreXe6"
      },
      "execution_count": null,
      "outputs": []
    },
    {
      "cell_type": "code",
      "execution_count": null,
      "metadata": {
        "id": "itXXXacbM_nP"
      },
      "outputs": [],
      "source": [
        "\n",
        "class DQNAgent:\n",
        "  \"\"\"\n",
        "  Implements the Agent components\n",
        "  \"\"\"\n",
        "\n",
        "  #def __init__(self, actor_net=DuellingDQN, memory=ReplayMemory()):\n",
        "  def __init__(self, actor_net=DoubleDQN, memory=ReplayMemory()):\n",
        "\n",
        "    self.actor_online = actor_net(STATE_SPACE, ACTION_SPACE).to(DEVICE)\n",
        "    self.actor_target = actor_net(STATE_SPACE, ACTION_SPACE).to(DEVICE)\n",
        "    self.actor_target.load_state_dict(self.actor_online.state_dict())\n",
        "    self.actor_target.eval()\n",
        "\n",
        "    self.memory = memory\n",
        "\n",
        "    self.actor_criterion = nn.MSELoss()\n",
        "    self.actor_op = optim.Adam(self.actor_online.parameters(), lr=LR_DQN)\n",
        "\n",
        "    self.t_step = 0\n",
        "\n",
        "\n",
        "  def act(self, state, eps=0.):\n",
        "    self.t_step += 1\n",
        "    state = torch.from_numpy(state).float().to(DEVICE).view(1, -1)\n",
        "\n",
        "    self.actor_online.eval()\n",
        "    with torch.no_grad():\n",
        "      actions = self.actor_online(state)\n",
        "    self.actor_online.train()\n",
        "\n",
        "    if random.random() > eps:\n",
        "      act = np.argmax(actions.cpu().data.numpy())\n",
        "    else:\n",
        "      act = random.choice(np.arange(ACTION_SPACE))\n",
        "    return int(act)\n",
        "\n",
        "\n",
        "  def learn(self):\n",
        "    if len(self.memory) <= MEMORY_THRESH:\n",
        "      return 0\n",
        "\n",
        "    if self.t_step > LEARN_AFTER and self.t_step % LEARN_EVERY==0:\n",
        "    # Sample experiences from the Memory\n",
        "      batch = self.memory.sample(BATCH_SIZE)\n",
        "\n",
        "      states = np.vstack([t.States for t in batch])\n",
        "      states = torch.from_numpy(states).float().to(DEVICE)\n",
        "\n",
        "      actions = np.vstack([t.Actions for t in batch])\n",
        "      actions = torch.from_numpy(actions).float().to(DEVICE)\n",
        "\n",
        "      rewards = np.vstack([t.Rewards for t in batch])\n",
        "      rewards = torch.from_numpy(rewards).float().to(DEVICE)\n",
        "\n",
        "      next_states = np.vstack([t.NextStates for t in batch])\n",
        "      next_states = torch.from_numpy(next_states).float().to(DEVICE)\n",
        "\n",
        "      dones = np.vstack([t.Dones for t in batch]).astype(np.uint8)\n",
        "      dones = torch.from_numpy(dones).float().to(DEVICE)\n",
        "\n",
        "      # ACTOR UPDATE\n",
        "      # Compute next state actions and state values\n",
        "      next_state_values = self.actor_target(next_states).max(1)[0].unsqueeze(1)\n",
        "      y = rewards + (1-dones) * GAMMA * next_state_values\n",
        "      state_values = self.actor_online(states).gather(1, actions.type(torch.int64))\n",
        "      # Compute Actor loss\n",
        "      actor_loss = self.actor_criterion(y, state_values)\n",
        "      # Minimize Actor loss\n",
        "      self.actor_op.zero_grad()\n",
        "      actor_loss.backward()\n",
        "      self.actor_op.step()\n",
        "\n",
        "      if self.t_step % UPDATE_EVERY == 0:\n",
        "        self.soft_update(self.actor_online, self.actor_target)\n",
        "      # return actor_loss.item()\n",
        "\n",
        "\n",
        "  def soft_update(self, local_model, target_model, tau=TAU):\n",
        "    for target_param, local_param in zip(target_model.parameters(), local_model.parameters()):\n",
        "      target_param.data.copy_(tau*local_param.data + (1.0-tau)*target_param.data)\n"
      ]
    },
    {
      "cell_type": "markdown",
      "metadata": {
        "id": "YZF9i0PIOnw2"
      },
      "source": [
        "## ⛹️‍♂️ Training"
      ]
    },
    {
      "cell_type": "markdown",
      "metadata": {
        "id": "M6dFR1LaOdk5"
      },
      "source": [
        "\n",
        "For training the Agent, we shall consider the historical price data from 2015/08/01 to 2022/08/30 and for validation, 2022/08/30 to 2023/08/30.\n",
        "\n"
      ]
    },
    {
      "cell_type": "code",
      "execution_count": null,
      "metadata": {
        "id": "eoSq7IURGuor"
      },
      "outputs": [],
      "source": [
        "import pandas as pd"
      ]
    },
    {
      "cell_type": "code",
      "execution_count": null,
      "metadata": {
        "colab": {
          "base_uri": "https://localhost:8080/"
        },
        "id": "fe9nY7kOO5_v",
        "outputId": "23d0bb6f-d9d3-4fff-eed8-5459da8db81a"
      },
      "outputs": [
        {
          "output_type": "stream",
          "name": "stdout",
          "text": [
            "[*********************100%%**********************]  1 of 1 completed\n",
            "[*********************100%%**********************]  1 of 1 completed\n",
            "[*********************100%%**********************]  1 of 1 completed\n",
            "[*********************100%%**********************]  1 of 1 completed\n",
            "Episode: 1, Train Score: -2197.14424, Validation Score: -76.93509\n",
            "Episode: 1, Train Value: $128284.18153, Validation Value: $20505.17717 \n",
            "\n",
            "365\n",
            "365\n",
            "365\n",
            "Episode: 2, Train Score: -2028.69844, Validation Score: -250.22764\n",
            "Episode: 2, Train Value: $58207.05670, Validation Value: $8502.37063 \n",
            "\n",
            "365\n",
            "365\n",
            "365\n",
            "Episode: 3, Train Score: -1602.71795, Validation Score: -244.15963\n",
            "Episode: 3, Train Value: $143487.26688, Validation Value: $16702.30354 \n",
            "\n",
            "365\n",
            "365\n",
            "365\n",
            "Episode: 4, Train Score: -1705.76048, Validation Score: -231.03724\n",
            "Episode: 4, Train Value: $368150.98368, Validation Value: $38903.18606 \n",
            "\n",
            "365\n",
            "365\n",
            "365\n",
            "Episode: 5, Train Score: -1712.11907, Validation Score: -291.29706\n",
            "Episode: 5, Train Value: $114230.71485, Validation Value: $17832.28306 \n",
            "\n",
            "365\n",
            "365\n",
            "365\n",
            "Episode: 6, Train Score: -935.03776, Validation Score: -266.53743\n",
            "Episode: 6, Train Value: $524125.49684, Validation Value: $31629.54292 \n",
            "\n",
            "365\n",
            "365\n",
            "365\n",
            "Episode: 7, Train Score: -705.57476, Validation Score: -250.61187\n",
            "Episode: 7, Train Value: $793672.46143, Validation Value: $45064.76378 \n",
            "\n",
            "365\n",
            "365\n",
            "365\n",
            "Episode: 8, Train Score: -30.42149, Validation Score: -155.30161\n",
            "Episode: 8, Train Value: $1287848.77585, Validation Value: $114904.50812 \n",
            "\n",
            "365\n",
            "365\n",
            "365\n",
            "Episode: 9, Train Score: 193.94164, Validation Score: -237.80695\n",
            "Episode: 9, Train Value: $1770519.89689, Validation Value: $57743.59221 \n",
            "\n",
            "365\n",
            "365\n",
            "365\n",
            "Episode: 10, Train Score: 211.88075, Validation Score: -227.78077\n",
            "Episode: 10, Train Value: $1958430.41483, Validation Value: $93166.35059 \n",
            "\n",
            "365\n",
            "365\n",
            "365\n",
            "Episode: 11, Train Score: 551.57968, Validation Score: -217.89115\n",
            "Episode: 11, Train Value: $3374978.35816, Validation Value: $79051.11187 \n",
            "\n",
            "365\n",
            "365\n",
            "365\n",
            "Episode: 12, Train Score: 994.03158, Validation Score: -222.37626\n",
            "Episode: 12, Train Value: $5942095.41473, Validation Value: $73096.91823 \n",
            "\n",
            "365\n",
            "365\n",
            "365\n",
            "Episode: 13, Train Score: 1424.95055, Validation Score: -197.60412\n",
            "Episode: 13, Train Value: $6199168.10950, Validation Value: $101335.91778 \n",
            "\n",
            "365\n",
            "365\n",
            "365\n",
            "Episode: 14, Train Score: 536.91719, Validation Score: -209.65306\n",
            "Episode: 14, Train Value: $4345235.36673, Validation Value: $72820.82103 \n",
            "\n",
            "365\n",
            "365\n",
            "365\n",
            "Episode: 15, Train Score: 2031.03154, Validation Score: -231.79230\n",
            "Episode: 15, Train Value: $9941024.62861, Validation Value: $76190.06095 \n",
            "\n",
            "365\n",
            "365\n",
            "365\n",
            "Episode: 16, Train Score: 1434.79033, Validation Score: -354.48228\n",
            "Episode: 16, Train Value: $5972960.21715, Validation Value: $38113.04445 \n",
            "\n",
            "365\n",
            "365\n",
            "365\n",
            "Episode: 17, Train Score: 2064.05393, Validation Score: -272.81044\n",
            "Episode: 17, Train Value: $13398665.61270, Validation Value: $63599.73793 \n",
            "\n",
            "365\n",
            "365\n",
            "365\n",
            "Episode: 18, Train Score: 1730.47522, Validation Score: -311.98221\n",
            "Episode: 18, Train Value: $9912239.21252, Validation Value: $41819.42987 \n",
            "\n",
            "365\n",
            "365\n",
            "365\n",
            "Episode: 19, Train Score: 1449.53624, Validation Score: -262.60238\n",
            "Episode: 19, Train Value: $10507096.51803, Validation Value: $49626.30877 \n",
            "\n",
            "365\n",
            "365\n",
            "365\n",
            "Episode: 20, Train Score: 2184.12745, Validation Score: -250.08515\n",
            "Episode: 20, Train Value: $12227543.11973, Validation Value: $55165.91461 \n",
            "\n",
            "365\n",
            "365\n",
            "365\n"
          ]
        }
      ],
      "source": [
        "# Environment and Agent Initiation\n",
        "\n",
        "## Cryptocurrency Tickers\n",
        "#asset_codes = [\"ETH-USD\", \"BNB-USD\", \"XRP-USD\", \"SOL-USD\", \"DOGE-USD\",\n",
        "              # \"ADA-USD\", \"MATIC-USD\", \"AVAX-USD\", \"WAVES-USD\"]\n",
        "asset_codes = [\"XRP-USD\"]\n",
        "## Training and Testing Environments\n",
        "assets = [DataGetter(a, start_date=\"2015-08-01\", end_date=\"2022-08-30\") for a in asset_codes]\n",
        "test_assets = [DataGetter(a, start_date=\"2022-08-30\", end_date=\"2023-08-31\", freq=\"1d\") for a in asset_codes]\n",
        "envs = [SingleAssetTradingEnvironment(a) for a in assets]\n",
        "test_envs = [SingleAssetTradingEnvironment(a) for a in test_assets]\n",
        "\n",
        "## Agent\n",
        "memory = ReplayMemory()\n",
        "agent = DQNAgent(actor_net=DoubleDQN, memory=memory)\n",
        "#agent = DQNAgent(actor_net=SimpleDQN, memory=memory)\n",
        "#agent = DQNAgent(actor_net=DuellingDQN, memory=memory)\n",
        "\n",
        "# Main training loop\n",
        "N_EPISODES = 20 # No of episodes/epochs\n",
        "scores = []\n",
        "eps = EPS_START\n",
        "act_dict = {0:-1, 1:1, 2:0}\n",
        "ACTIONS=[]\n",
        "REWARDS=[]\n",
        "DATES=[]\n",
        "CLOSES=[]\n",
        "CAPITALS=[]\n",
        "\n",
        "te_score_min = -np.Inf\n",
        "for episode in range(1, 1 + N_EPISODES):\n",
        "  counter = 0\n",
        "  episode_score = 0\n",
        "  episode_score2 = 0\n",
        "  test_score = 0\n",
        "  test_score2 = 0\n",
        "  ACTIONS=[]\n",
        "  REWARDS=[]\n",
        "  DATES=[]\n",
        "  CLOSES=[]\n",
        "  CAPITALS=[]\n",
        "\n",
        "  for env in envs:\n",
        "    score = 0\n",
        "    state = env.reset()\n",
        "    state = state.reshape(-1, STATE_SPACE)\n",
        "\n",
        "    while True:\n",
        "      actions = agent.act(state, eps)\n",
        "      action = act_dict[actions]\n",
        "      next_state, reward, done, _= env.step(action)\n",
        "      next_state = next_state.reshape(-1, STATE_SPACE)\n",
        "\n",
        "      t = Transition(state, actions, reward, next_state, done)\n",
        "      agent.memory.store(t)\n",
        "      agent.learn()\n",
        "\n",
        "      state = next_state\n",
        "      score += reward\n",
        "      counter += 1\n",
        "      if done:\n",
        "        break\n",
        "\n",
        "    episode_score += score\n",
        "    episode_score2 += (env.store['running_capital'][-1] - env.store['running_capital'][0])\n",
        "\n",
        "\n",
        "  scores.append(episode_score)\n",
        "  eps = max(EPS_END, EPS_DECAY * eps)\n",
        "\n",
        "  for i, test_env in enumerate(test_envs):\n",
        "    state = test_env.reset()\n",
        "    done = False\n",
        "    score_te = 0\n",
        "    scores_te = [score_te]\n",
        "    date=test_env.asset_data.frame.index\n",
        "    close=test_env.asset_data.frame['Adj Close']\n",
        "    DATES.append(date)\n",
        "\n",
        "    CLOSES.append(close)\n",
        "    while True:\n",
        "      actions = agent.act(state)\n",
        "\n",
        "      action = act_dict[actions]\n",
        "\n",
        "      next_state, reward, done, _ = test_env.step(action)\n",
        "      next_state = next_state.reshape(-1, STATE_SPACE)\n",
        "      state= next_state\n",
        "      score_te += reward\n",
        "\n",
        "      ACTIONS.append(action)\n",
        "      REWARDS.append(reward)\n",
        "      CAPITALS.append(test_env.store['running_capital'])\n",
        "\n",
        "      scores_te.append(score_te)\n",
        "      if done:\n",
        "        break\n",
        "\n",
        "    test_score += score_te\n",
        "    test_score2 += (test_env.store['running_capital'][-1] - test_env.store['running_capital'][0])\n",
        "  if test_score > te_score_min:\n",
        "    te_score_min = test_score\n",
        "    torch.save(agent.actor_online.state_dict(), \"online.pt\")\n",
        "    torch.save(agent.actor_target.state_dict(), \"target.pt\")\n",
        "\n",
        "  print(f\"Episode: {episode}, Train Score: {episode_score:.5f}, Validation Score: {test_score:.5f}\")\n",
        "  print(f\"Episode: {episode}, Train Value: ${episode_score2:.5f}, Validation Value: ${test_score2:.5f}\", \"\\n\")\n",
        "\n",
        "\n",
        "  print(len(REWARDS))\n",
        "  print(len(ACTIONS))\n",
        "  print(len(CAPITALS))\n",
        "  #print(DATES)\n",
        "  date_list = [date.to_list() for date in DATES]"
      ]
    },
    {
      "cell_type": "code",
      "source": [
        "print(CLOSES)"
      ],
      "metadata": {
        "colab": {
          "base_uri": "https://localhost:8080/"
        },
        "id": "NucUIKBAFir3",
        "outputId": "9e0c824f-a154-42c1-9b13-dc2564df885c"
      },
      "execution_count": null,
      "outputs": [
        {
          "output_type": "stream",
          "name": "stdout",
          "text": [
            "[Date\n",
            "2022-08-30    0.326869\n",
            "2022-08-31    0.327870\n",
            "2022-09-01    0.333194\n",
            "2022-09-02    0.331259\n",
            "2022-09-03    0.329969\n",
            "                ...   \n",
            "2023-08-26    0.523470\n",
            "2023-08-27    0.523844\n",
            "2023-08-28    0.523248\n",
            "2023-08-29    0.540065\n",
            "2023-08-30    0.528194\n",
            "Name: Adj Close, Length: 366, dtype: float64]\n"
          ]
        }
      ]
    },
    {
      "cell_type": "code",
      "source": [
        "dates=[]\n",
        "for i in date_list:\n",
        "  for j in i:\n",
        "    dates.append(str(j.date()))"
      ],
      "metadata": {
        "id": "IR5PxKZe6QFg"
      },
      "execution_count": null,
      "outputs": []
    },
    {
      "cell_type": "code",
      "source": [
        "ACTIONS=[0]+ACTIONS\n",
        "REWARDS=[0]+REWARDS\n",
        "dates=dates\n",
        "print(len(dates))\n",
        "print(len(ACTIONS))\n",
        "print(dates)"
      ],
      "metadata": {
        "colab": {
          "base_uri": "https://localhost:8080/"
        },
        "id": "6LPJuEwf8-Gf",
        "outputId": "2ca5bff6-87bd-4d16-f887-8742a33838e8"
      },
      "execution_count": null,
      "outputs": [
        {
          "output_type": "stream",
          "name": "stdout",
          "text": [
            "366\n",
            "366\n",
            "['2022-08-30', '2022-08-31', '2022-09-01', '2022-09-02', '2022-09-03', '2022-09-04', '2022-09-05', '2022-09-06', '2022-09-07', '2022-09-08', '2022-09-09', '2022-09-10', '2022-09-11', '2022-09-12', '2022-09-13', '2022-09-14', '2022-09-15', '2022-09-16', '2022-09-17', '2022-09-18', '2022-09-19', '2022-09-20', '2022-09-21', '2022-09-22', '2022-09-23', '2022-09-24', '2022-09-25', '2022-09-26', '2022-09-27', '2022-09-28', '2022-09-29', '2022-09-30', '2022-10-01', '2022-10-02', '2022-10-03', '2022-10-04', '2022-10-05', '2022-10-06', '2022-10-07', '2022-10-08', '2022-10-09', '2022-10-10', '2022-10-11', '2022-10-12', '2022-10-13', '2022-10-14', '2022-10-15', '2022-10-16', '2022-10-17', '2022-10-18', '2022-10-19', '2022-10-20', '2022-10-21', '2022-10-22', '2022-10-23', '2022-10-24', '2022-10-25', '2022-10-26', '2022-10-27', '2022-10-28', '2022-10-29', '2022-10-30', '2022-10-31', '2022-11-01', '2022-11-02', '2022-11-03', '2022-11-04', '2022-11-05', '2022-11-06', '2022-11-07', '2022-11-08', '2022-11-09', '2022-11-10', '2022-11-11', '2022-11-12', '2022-11-13', '2022-11-14', '2022-11-15', '2022-11-16', '2022-11-17', '2022-11-18', '2022-11-19', '2022-11-20', '2022-11-21', '2022-11-22', '2022-11-23', '2022-11-24', '2022-11-25', '2022-11-26', '2022-11-27', '2022-11-28', '2022-11-29', '2022-11-30', '2022-12-01', '2022-12-02', '2022-12-03', '2022-12-04', '2022-12-05', '2022-12-06', '2022-12-07', '2022-12-08', '2022-12-09', '2022-12-10', '2022-12-11', '2022-12-12', '2022-12-13', '2022-12-14', '2022-12-15', '2022-12-16', '2022-12-17', '2022-12-18', '2022-12-19', '2022-12-20', '2022-12-21', '2022-12-22', '2022-12-23', '2022-12-24', '2022-12-25', '2022-12-26', '2022-12-27', '2022-12-28', '2022-12-29', '2022-12-30', '2022-12-31', '2023-01-01', '2023-01-02', '2023-01-03', '2023-01-04', '2023-01-05', '2023-01-06', '2023-01-07', '2023-01-08', '2023-01-09', '2023-01-10', '2023-01-11', '2023-01-12', '2023-01-13', '2023-01-14', '2023-01-15', '2023-01-16', '2023-01-17', '2023-01-18', '2023-01-19', '2023-01-20', '2023-01-21', '2023-01-22', '2023-01-23', '2023-01-24', '2023-01-25', '2023-01-26', '2023-01-27', '2023-01-28', '2023-01-29', '2023-01-30', '2023-01-31', '2023-02-01', '2023-02-02', '2023-02-03', '2023-02-04', '2023-02-05', '2023-02-06', '2023-02-07', '2023-02-08', '2023-02-09', '2023-02-10', '2023-02-11', '2023-02-12', '2023-02-13', '2023-02-14', '2023-02-15', '2023-02-16', '2023-02-17', '2023-02-18', '2023-02-19', '2023-02-20', '2023-02-21', '2023-02-22', '2023-02-23', '2023-02-24', '2023-02-25', '2023-02-26', '2023-02-27', '2023-02-28', '2023-03-01', '2023-03-02', '2023-03-03', '2023-03-04', '2023-03-05', '2023-03-06', '2023-03-07', '2023-03-08', '2023-03-09', '2023-03-10', '2023-03-11', '2023-03-12', '2023-03-13', '2023-03-14', '2023-03-15', '2023-03-16', '2023-03-17', '2023-03-18', '2023-03-19', '2023-03-20', '2023-03-21', '2023-03-22', '2023-03-23', '2023-03-24', '2023-03-25', '2023-03-26', '2023-03-27', '2023-03-28', '2023-03-29', '2023-03-30', '2023-03-31', '2023-04-01', '2023-04-02', '2023-04-03', '2023-04-04', '2023-04-05', '2023-04-06', '2023-04-07', '2023-04-08', '2023-04-09', '2023-04-10', '2023-04-11', '2023-04-12', '2023-04-13', '2023-04-14', '2023-04-15', '2023-04-16', '2023-04-17', '2023-04-18', '2023-04-19', '2023-04-20', '2023-04-21', '2023-04-22', '2023-04-23', '2023-04-24', '2023-04-25', '2023-04-26', '2023-04-27', '2023-04-28', '2023-04-29', '2023-04-30', '2023-05-01', '2023-05-02', '2023-05-03', '2023-05-04', '2023-05-05', '2023-05-06', '2023-05-07', '2023-05-08', '2023-05-09', '2023-05-10', '2023-05-11', '2023-05-12', '2023-05-13', '2023-05-14', '2023-05-15', '2023-05-16', '2023-05-17', '2023-05-18', '2023-05-19', '2023-05-20', '2023-05-21', '2023-05-22', '2023-05-23', '2023-05-24', '2023-05-25', '2023-05-26', '2023-05-27', '2023-05-28', '2023-05-29', '2023-05-30', '2023-05-31', '2023-06-01', '2023-06-02', '2023-06-03', '2023-06-04', '2023-06-05', '2023-06-06', '2023-06-07', '2023-06-08', '2023-06-09', '2023-06-10', '2023-06-11', '2023-06-12', '2023-06-13', '2023-06-14', '2023-06-15', '2023-06-16', '2023-06-17', '2023-06-18', '2023-06-19', '2023-06-20', '2023-06-21', '2023-06-22', '2023-06-23', '2023-06-24', '2023-06-25', '2023-06-26', '2023-06-27', '2023-06-28', '2023-06-29', '2023-06-30', '2023-07-01', '2023-07-02', '2023-07-03', '2023-07-04', '2023-07-05', '2023-07-06', '2023-07-07', '2023-07-08', '2023-07-09', '2023-07-10', '2023-07-11', '2023-07-12', '2023-07-13', '2023-07-14', '2023-07-15', '2023-07-16', '2023-07-17', '2023-07-18', '2023-07-19', '2023-07-20', '2023-07-21', '2023-07-22', '2023-07-23', '2023-07-24', '2023-07-25', '2023-07-26', '2023-07-27', '2023-07-28', '2023-07-29', '2023-07-30', '2023-07-31', '2023-08-01', '2023-08-02', '2023-08-03', '2023-08-04', '2023-08-05', '2023-08-06', '2023-08-07', '2023-08-08', '2023-08-09', '2023-08-10', '2023-08-11', '2023-08-12', '2023-08-13', '2023-08-14', '2023-08-15', '2023-08-16', '2023-08-17', '2023-08-18', '2023-08-19', '2023-08-20', '2023-08-21', '2023-08-22', '2023-08-23', '2023-08-24', '2023-08-25', '2023-08-26', '2023-08-27', '2023-08-28', '2023-08-29', '2023-08-30']\n"
          ]
        }
      ]
    },
    {
      "cell_type": "code",
      "source": [
        "year_month=[]\n",
        "for date in dates:\n",
        "\n",
        "  year_month.append(date.split('-')[0]+'-'+date.split('-')[1])\n",
        "print(year_month)"
      ],
      "metadata": {
        "colab": {
          "base_uri": "https://localhost:8080/"
        },
        "id": "uu6H4KIGNIn8",
        "outputId": "07deb3b4-2a97-40ad-ac4b-a8d26907be6f"
      },
      "execution_count": null,
      "outputs": [
        {
          "output_type": "stream",
          "name": "stdout",
          "text": [
            "['2022-08', '2022-08', '2022-09', '2022-09', '2022-09', '2022-09', '2022-09', '2022-09', '2022-09', '2022-09', '2022-09', '2022-09', '2022-09', '2022-09', '2022-09', '2022-09', '2022-09', '2022-09', '2022-09', '2022-09', '2022-09', '2022-09', '2022-09', '2022-09', '2022-09', '2022-09', '2022-09', '2022-09', '2022-09', '2022-09', '2022-09', '2022-09', '2022-10', '2022-10', '2022-10', '2022-10', '2022-10', '2022-10', '2022-10', '2022-10', '2022-10', '2022-10', '2022-10', '2022-10', '2022-10', '2022-10', '2022-10', '2022-10', '2022-10', '2022-10', '2022-10', '2022-10', '2022-10', '2022-10', '2022-10', '2022-10', '2022-10', '2022-10', '2022-10', '2022-10', '2022-10', '2022-10', '2022-10', '2022-11', '2022-11', '2022-11', '2022-11', '2022-11', '2022-11', '2022-11', '2022-11', '2022-11', '2022-11', '2022-11', '2022-11', '2022-11', '2022-11', '2022-11', '2022-11', '2022-11', '2022-11', '2022-11', '2022-11', '2022-11', '2022-11', '2022-11', '2022-11', '2022-11', '2022-11', '2022-11', '2022-11', '2022-11', '2022-11', '2022-12', '2022-12', '2022-12', '2022-12', '2022-12', '2022-12', '2022-12', '2022-12', '2022-12', '2022-12', '2022-12', '2022-12', '2022-12', '2022-12', '2022-12', '2022-12', '2022-12', '2022-12', '2022-12', '2022-12', '2022-12', '2022-12', '2022-12', '2022-12', '2022-12', '2022-12', '2022-12', '2022-12', '2022-12', '2022-12', '2022-12', '2023-01', '2023-01', '2023-01', '2023-01', '2023-01', '2023-01', '2023-01', '2023-01', '2023-01', '2023-01', '2023-01', '2023-01', '2023-01', '2023-01', '2023-01', '2023-01', '2023-01', '2023-01', '2023-01', '2023-01', '2023-01', '2023-01', '2023-01', '2023-01', '2023-01', '2023-01', '2023-01', '2023-01', '2023-01', '2023-01', '2023-01', '2023-02', '2023-02', '2023-02', '2023-02', '2023-02', '2023-02', '2023-02', '2023-02', '2023-02', '2023-02', '2023-02', '2023-02', '2023-02', '2023-02', '2023-02', '2023-02', '2023-02', '2023-02', '2023-02', '2023-02', '2023-02', '2023-02', '2023-02', '2023-02', '2023-02', '2023-02', '2023-02', '2023-02', '2023-03', '2023-03', '2023-03', '2023-03', '2023-03', '2023-03', '2023-03', '2023-03', '2023-03', '2023-03', '2023-03', '2023-03', '2023-03', '2023-03', '2023-03', '2023-03', '2023-03', '2023-03', '2023-03', '2023-03', '2023-03', '2023-03', '2023-03', '2023-03', '2023-03', '2023-03', '2023-03', '2023-03', '2023-03', '2023-03', '2023-03', '2023-04', '2023-04', '2023-04', '2023-04', '2023-04', '2023-04', '2023-04', '2023-04', '2023-04', '2023-04', '2023-04', '2023-04', '2023-04', '2023-04', '2023-04', '2023-04', '2023-04', '2023-04', '2023-04', '2023-04', '2023-04', '2023-04', '2023-04', '2023-04', '2023-04', '2023-04', '2023-04', '2023-04', '2023-04', '2023-04', '2023-05', '2023-05', '2023-05', '2023-05', '2023-05', '2023-05', '2023-05', '2023-05', '2023-05', '2023-05', '2023-05', '2023-05', '2023-05', '2023-05', '2023-05', '2023-05', '2023-05', '2023-05', '2023-05', '2023-05', '2023-05', '2023-05', '2023-05', '2023-05', '2023-05', '2023-05', '2023-05', '2023-05', '2023-05', '2023-05', '2023-05', '2023-06', '2023-06', '2023-06', '2023-06', '2023-06', '2023-06', '2023-06', '2023-06', '2023-06', '2023-06', '2023-06', '2023-06', '2023-06', '2023-06', '2023-06', '2023-06', '2023-06', '2023-06', '2023-06', '2023-06', '2023-06', '2023-06', '2023-06', '2023-06', '2023-06', '2023-06', '2023-06', '2023-06', '2023-06', '2023-06', '2023-07', '2023-07', '2023-07', '2023-07', '2023-07', '2023-07', '2023-07', '2023-07', '2023-07', '2023-07', '2023-07', '2023-07', '2023-07', '2023-07', '2023-07', '2023-07', '2023-07', '2023-07', '2023-07', '2023-07', '2023-07', '2023-07', '2023-07', '2023-07', '2023-07', '2023-07', '2023-07', '2023-07', '2023-07', '2023-07', '2023-07', '2023-08', '2023-08', '2023-08', '2023-08', '2023-08', '2023-08', '2023-08', '2023-08', '2023-08', '2023-08', '2023-08', '2023-08', '2023-08', '2023-08', '2023-08', '2023-08', '2023-08', '2023-08', '2023-08', '2023-08', '2023-08', '2023-08', '2023-08', '2023-08', '2023-08', '2023-08', '2023-08', '2023-08', '2023-08', '2023-08']\n"
          ]
        }
      ]
    },
    {
      "cell_type": "code",
      "source": [
        "CLOSES_1=CLOSES[0]\n",
        "CLOSES_1"
      ],
      "metadata": {
        "colab": {
          "base_uri": "https://localhost:8080/"
        },
        "id": "w36mAly6IMLA",
        "outputId": "d7334c2e-a3a4-4702-8d6a-381d7d35c275"
      },
      "execution_count": null,
      "outputs": [
        {
          "output_type": "execute_result",
          "data": {
            "text/plain": [
              "Date\n",
              "2022-08-30    0.326869\n",
              "2022-08-31    0.327870\n",
              "2022-09-01    0.333194\n",
              "2022-09-02    0.331259\n",
              "2022-09-03    0.329969\n",
              "                ...   \n",
              "2023-08-26    0.523470\n",
              "2023-08-27    0.523844\n",
              "2023-08-28    0.523248\n",
              "2023-08-29    0.540065\n",
              "2023-08-30    0.528194\n",
              "Name: Adj Close, Length: 366, dtype: float64"
            ]
          },
          "metadata": {},
          "execution_count": 94
        }
      ]
    },
    {
      "cell_type": "code",
      "source": [
        "import matplotlib.pyplot as plt\n",
        "import pandas as pd\n",
        "\n",
        "\n",
        "\n",
        "# Create a DataFrame from the data\n",
        "df = pd.DataFrame({'Date': dates, 'Close': CLOSES_1, 'Actions':ACTIONS})\n",
        "\n",
        "\n",
        "# Create buy and sell signals based on Actions column\n",
        "buy_indices = [i for i, val in enumerate(df['Actions']) if val == 1]\n",
        "sell_indices = [i for i, val in enumerate(df['Actions']) if val == -1]\n",
        "\n",
        "# Create a figure and axis\n",
        "fig, ax = plt.subplots(figsize=(7, 7))\n",
        "\n",
        "# Plot the Close price\n",
        "ax.plot(df['Date'], df['Close'], label='Close Price', color='b')\n",
        "\n",
        "# Plot buy signals (green)\n",
        "ax.scatter(df['Date'][buy_indices], df['Close'][buy_indices], marker='^', color='g', label='Buy Signal', s=100)\n",
        "\n",
        "# Plot sell signals (red)\n",
        "ax.scatter(df['Date'][sell_indices], df['Close'][sell_indices], marker='v', color='r', label='Sell Signal', s=100)\n",
        "\n",
        "# Set x-axis labels to be every two months\n",
        "plt.xticks(df['Date'][::60], rotation=45)\n",
        "\n",
        "# Set y-axis label\n",
        "ax.set_ylabel('Close Price')\n",
        "\n",
        "# Add a legend\n",
        "ax.legend()\n",
        "\n",
        "# Set the title\n",
        "plt.title('XRP-USD Trade Signals')\n",
        "\n",
        "# Show the plot\n",
        "plt.tight_layout()\n",
        "plt.show()"
      ],
      "metadata": {
        "colab": {
          "base_uri": "https://localhost:8080/",
          "height": 708
        },
        "id": "rr_Tv7yoEttS",
        "outputId": "6cf6c61d-393e-46ad-94de-5df07f3c21b1"
      },
      "execution_count": null,
      "outputs": [
        {
          "output_type": "display_data",
          "data": {
            "text/plain": [
              "<Figure size 700x700 with 1 Axes>"
            ],
            "image/png": "[encoded data removed]"
          },
          "metadata": {}
        }
      ]
    },
    {
      "cell_type": "code",
      "source": [
        "dates = test_env.asset_data.frame.index"
      ],
      "metadata": {
        "id": "FrKk3gQwiRp6"
      },
      "execution_count": null,
      "outputs": []
    },
    {
      "cell_type": "code",
      "execution_count": null,
      "metadata": {
        "id": "XmkVhSNzPXuH",
        "colab": {
          "base_uri": "https://localhost:8080/",
          "height": 708
        },
        "outputId": "dde81862-c6a7-4c9f-a43e-eafa14153366"
      },
      "outputs": [
        {
          "output_type": "display_data",
          "data": {
            "text/plain": [
              "<Figure size 700x700 with 1 Axes>"
            ],
            "image/png": "[encoded data removed]"
          },
          "metadata": {}
        }
      ],
      "source": [
        "fig, ax = plt.subplots(figsize=(7, 7))\n",
        "\n",
        "CAPITALS1=[CAPITAL]+CAPITALS[0]\n",
        "ax.plot(dates,np.ones(len(dates))*CAPITAL, label='Initial position')\n",
        "ax.plot(dates,CAPITALS1, label = 'Running capital', color='r')\n",
        "\n",
        "# Add a legend\n",
        "ax.legend()\n",
        "\n",
        "# Show the plot\n",
        "plt.title('XRP-USD Portofolio Wealth')\n",
        "plt.tight_layout()\n",
        "plt.show()\n",
        "\n",
        "\n",
        "#plt.plot(dates,CAPITALS_1)"
      ]
    },
    {
      "cell_type": "code",
      "source": [
        "x1=np.arange(len(scores_te)+1)\n",
        "x=scores_te\n",
        "y= ACTIONS\n",
        "print(len(x))\n",
        "print(len(y))\n",
        "conditions =[y == -1, y == 0, y==1]\n",
        "colors = np.array(['red', 'green', 'blue'])\n",
        "color_list = np.select(conditions, colors)\n",
        "plt.scatter(x1,x,c=color_list)\n",
        "\n",
        "\n"
      ],
      "metadata": {
        "id": "pPxHl3VtSsXY"
      },
      "execution_count": null,
      "outputs": []
    },
    {
      "cell_type": "code",
      "source": [],
      "metadata": {
        "id": "ip4aPFimUCtD"
      },
      "execution_count": null,
      "outputs": []
    }
  ],
  "metadata": {
    "colab": {
      "provenance": [],
      "include_colab_link": true
    },
    "kernelspec": {
      "display_name": "Python 3",
      "name": "python3"
    },
    "language_info": {
      "codemirror_mode": {
        "name": "ipython",
        "version": 3
      },
      "file_extension": ".py",
      "mimetype": "text/x-python",
      "name": "python",
      "nbconvert_exporter": "python",
      "pygments_lexer": "ipython3",
      "version": "3.10.9"
    },
    "vscode": {
      "interpreter": {
        "hash": "7a2fac7082c9fd197cae6c34e59831c2d1cabe6936d70c69517db7d424f3e7ae"
      }
    },
    "accelerator": "TPU"
  },
  "nbformat": 4,
  "nbformat_minor": 0
}